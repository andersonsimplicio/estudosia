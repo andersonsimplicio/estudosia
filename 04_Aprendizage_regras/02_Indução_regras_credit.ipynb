{
 "cells": [
  {
   "cell_type": "code",
   "execution_count": 1,
   "metadata": {},
   "outputs": [],
   "source": [
    "import Orange"
   ]
  },
  {
   "cell_type": "code",
   "execution_count": 5,
   "metadata": {},
   "outputs": [
    {
     "data": {
      "text/plain": [
       "[income, age, loan | default]"
      ]
     },
     "execution_count": 5,
     "metadata": {},
     "output_type": "execute_result"
    }
   ],
   "source": [
    "base_credit = Orange.data.Table('database/credit_data_regras.csv');\n",
    "base_credit.domain"
   ]
  },
  {
   "cell_type": "code",
   "execution_count": 11,
   "metadata": {},
   "outputs": [
    {
     "data": {
      "text/plain": [
       "(1500, 500)"
      ]
     },
     "execution_count": 11,
     "metadata": {},
     "output_type": "execute_result"
    }
   ],
   "source": [
    "base_div = Orange.evaluation.testing.sample(base_credit,n=0.25)\n",
    "treinamento = base_div[1]\n",
    "teste = base_div[0]\n",
    "len(treinamento),len(teste)"
   ]
  },
  {
   "cell_type": "code",
   "execution_count": 13,
   "metadata": {},
   "outputs": [
    {
     "name": "stdout",
     "output_type": "stream",
     "text": [
      "IF age>=34.9257164876908 THEN default=0 \n",
      "IF income>=69478.3987640403 THEN default=1 \n",
      "IF loan<=2495.13299137587 AND income>=20145.9885970689 THEN default=0 \n",
      "IF income<=31702.3342987522 AND loan>=3675.83341454456 THEN default=1 \n",
      "IF loan>=7708.31562497011 AND loan>=9601.375482171099 THEN default=1 \n",
      "IF loan>=7329.243163822591 AND loan>=9595.28628892989 THEN default=0 \n",
      "IF age>=34.851817262359 THEN default=0 \n",
      "IF loan>=7708.31562497011 AND age>=21.4227129220963 THEN default=1 \n",
      "IF age>=34.5964918844402 AND income>=33436.4890051074 THEN default=1 \n",
      "IF age>=33.8957485635765 AND income>=46696.8926647678 THEN default=0 \n",
      "IF loan>=5502.73603087282 AND age>=33.6895613595843 THEN default=1 \n",
      "IF age>=33.4312054850161 AND income>=34237.5754192472 THEN default=0 \n",
      "IF income<=46911.197102163 AND loan>=5502.73603087282 THEN default=1 \n",
      "IF income<=26617.0303151011 AND age>=34.7410444347188 THEN default=0 \n",
      "IF income<=26617.0303151011 AND age>=28.818521979264897 THEN default=1 \n",
      "IF loan<=6870.83901013046 AND age>=33.804503521882 THEN default=1 \n",
      "IF loan<=6870.83901013046 AND age>=30.676849837880603 THEN default=0 \n",
      "IF loan<=6870.83901013046 AND age>=30.544511467684103 THEN default=1 \n",
      "IF income<=26617.0303151011 AND age>=28.616509240120603 THEN default=0 \n",
      "IF income<=30075.264924671497 AND age>=29.2350565218367 THEN default=0 \n",
      "IF income<=31702.3342987522 AND age>=28.4226720966399 THEN default=0 \n",
      "IF income<=32197.6207010448 AND age>=21.8976978017017 THEN default=1 \n",
      "IF income>=58132.4712652713 AND age>=20.3008601283655 THEN default=0 \n",
      "IF age>=32.3002068898641 THEN default=1 \n",
      "IF loan<=6069.64909380359 AND income>=49413.2985407487 THEN default=0 \n",
      "IF loan<=4849.33378471958 AND income>=38129.754869733 THEN default=0 \n",
      "IF loan>=7329.243163822591 AND age>=18.621307099238 THEN default=1 \n",
      "IF loan<=4285.38691174949 AND income>=34559.907035436496 THEN default=0 \n",
      "IF income>=66952.68884534019 THEN default=1 \n",
      "IF income>=57787.565658800304 THEN default=0 \n",
      "IF age>=30.142012033611497 THEN default=1 \n",
      "IF age>=29.7553181806579 THEN default=0 \n",
      "IF loan>=6870.83901013046 THEN default=1 \n",
      "IF income>=54421.054006088496 THEN default=0 \n",
      "IF loan>=5862.83302915672 THEN default=1 \n",
      "IF income>=42522.5757574663 THEN default=0 \n",
      "IF age>=24.4157260977663 THEN default=1 \n",
      "IF income>=38011.7266485468 THEN default=1 \n",
      "IF loan>=4849.33378471958 THEN default=1 \n",
      "IF income>=32197.6207010448 THEN default=0 \n",
      "IF income>=26218.4948474169 THEN default=1 \n",
      "IF income<=22089.8374845274 THEN default=0 \n",
      "IF TRUE THEN default=0 \n"
     ]
    }
   ],
   "source": [
    "cn2 = Orange.classification.rules.CN2Learner()\n",
    "regras_credit = cn2(treinamento)\n",
    "for rules in regras_credit.rule_list:\n",
    "    print(f'{rules}')"
   ]
  },
  {
   "cell_type": "code",
   "execution_count": 15,
   "metadata": {},
   "outputs": [
    {
     "data": {
      "text/plain": [
       "array([0.978])"
      ]
     },
     "execution_count": 15,
     "metadata": {},
     "output_type": "execute_result"
    }
   ],
   "source": [
    "previsoes = Orange.evaluation.TestOnTestData(treinamento,teste,[lambda testdata: regras_credit])\n",
    "Orange.evaluation.CA(previsoes)"
   ]
  },
  {
   "cell_type": "code",
   "execution_count": null,
   "metadata": {},
   "outputs": [],
   "source": []
  }
 ],
 "metadata": {
  "kernelspec": {
   "display_name": "Python 3",
   "language": "python",
   "name": "python3"
  },
  "language_info": {
   "codemirror_mode": {
    "name": "ipython",
    "version": 3
   },
   "file_extension": ".py",
   "mimetype": "text/x-python",
   "name": "python",
   "nbconvert_exporter": "python",
   "pygments_lexer": "ipython3",
   "version": "3.8.10"
  }
 },
 "nbformat": 4,
 "nbformat_minor": 4
}
