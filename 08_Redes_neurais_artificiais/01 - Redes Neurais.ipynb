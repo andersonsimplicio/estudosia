{
 "cells": [
  {
   "cell_type": "code",
   "execution_count": 55,
   "metadata": {},
   "outputs": [],
   "source": [
    "from sklearn.neural_network import MLPClassifier\n",
    "from sklearn.metrics import accuracy_score,classification_report\n",
    "from yellowbrick.classifier import ConfusionMatrix\n",
    "import pickle"
   ]
  },
  {
   "cell_type": "code",
   "execution_count": 10,
   "metadata": {},
   "outputs": [],
   "source": [
    "with open('database/credit.pkl','rb') as f:\n",
    "    X_treinamento,x_teste, y_treinamento, y_teste = pickle.load(f)"
   ]
  },
  {
   "cell_type": "code",
   "execution_count": 11,
   "metadata": {},
   "outputs": [
    {
     "data": {
      "text/plain": [
       "((1500, 3), (1500,))"
      ]
     },
     "execution_count": 11,
     "metadata": {},
     "output_type": "execute_result"
    }
   ],
   "source": [
    " X_treinamento.shape, y_treinamento.shape"
   ]
  },
  {
   "cell_type": "code",
   "execution_count": 12,
   "metadata": {},
   "outputs": [
    {
     "data": {
      "text/plain": [
       "((500, 3), (500,))"
      ]
     },
     "execution_count": 12,
     "metadata": {},
     "output_type": "execute_result"
    }
   ],
   "source": [
    "x_teste.shape, y_teste.shape"
   ]
  },
  {
   "cell_type": "code",
   "execution_count": 50,
   "metadata": {},
   "outputs": [
    {
     "data": {
      "text/plain": [
       "MLPClassifier(hidden_layer_sizes=(100, 100), max_iter=1500, tol=1e-05)"
      ]
     },
     "execution_count": 50,
     "metadata": {},
     "output_type": "execute_result"
    }
   ],
   "source": [
    "rede_n_credit = MLPClassifier(max_iter=1500,verbose=False,tol=0.0000100,solver='adam',activation='relu',hidden_layer_sizes=(100,100))\n",
    "rede_n_credit.fit(X_treinamento,y_treinamento)"
   ]
  },
  {
   "cell_type": "code",
   "execution_count": 52,
   "metadata": {},
   "outputs": [
    {
     "data": {
      "text/plain": [
       "0.994"
      ]
     },
     "execution_count": 52,
     "metadata": {},
     "output_type": "execute_result"
    }
   ],
   "source": [
    "previsoes = rede_n_credit.predict(x_teste)\n",
    "accuracy_score(previsoes,y_teste)"
   ]
  },
  {
   "cell_type": "code",
   "execution_count": 53,
   "metadata": {},
   "outputs": [
    {
     "data": {
      "text/plain": [
       "0.994"
      ]
     },
     "execution_count": 53,
     "metadata": {},
     "output_type": "execute_result"
    },
    {
     "data": {
      "image/png": "[encoded data removed]",
      "text/plain": [
       "<Figure size 576x396 with 1 Axes>"
      ]
     },
     "metadata": {},
     "output_type": "display_data"
    }
   ],
   "source": [
    "cm = ConfusionMatrix(rede_n_credit)\n",
    "cm.fit(X_treinamento,y_treinamento)\n",
    "cm.score(x_teste,y_teste)"
   ]
  },
  {
   "cell_type": "code",
   "execution_count": 57,
   "metadata": {},
   "outputs": [
    {
     "name": "stdout",
     "output_type": "stream",
     "text": [
      "              precision    recall  f1-score   support\n",
      "\n",
      "         Pay       1.00      1.00      1.00       436\n",
      "  Do not Pay       0.98      0.97      0.98        64\n",
      "\n",
      "    accuracy                           0.99       500\n",
      "   macro avg       0.99      0.98      0.99       500\n",
      "weighted avg       0.99      0.99      0.99       500\n",
      "\n"
     ]
    }
   ],
   "source": [
    "print(classification_report(y_teste,previsoes, target_names=['Pay','Do not Pay']))"
   ]
  },
  {
   "cell_type": "code",
   "execution_count": 47,
   "metadata": {},
   "outputs": [
    {
     "data": {
      "text/plain": [
       "((500,), (500,))"
      ]
     },
     "execution_count": 47,
     "metadata": {},
     "output_type": "execute_result"
    }
   ],
   "source": [
    "y_teste.shape,previsoes.shape\n"
   ]
  },
  {
   "cell_type": "code",
   "execution_count": 58,
   "metadata": {},
   "outputs": [],
   "source": [
    "with open('database/census.pkl','rb') as f:\n",
    "    X_treinamento,x_teste, y_treinamento, y_teste = pickle.load(f)"
   ]
  },
  {
   "cell_type": "code",
   "execution_count": 59,
   "metadata": {},
   "outputs": [
    {
     "data": {
      "text/plain": [
       "((27676, 108), (27676,))"
      ]
     },
     "execution_count": 59,
     "metadata": {},
     "output_type": "execute_result"
    }
   ],
   "source": [
    "X_treinamento.shape, y_treinamento.shape"
   ]
  },
  {
   "cell_type": "code",
   "execution_count": 60,
   "metadata": {},
   "outputs": [
    {
     "data": {
      "text/plain": [
       "((4885, 108), (4885,))"
      ]
     },
     "execution_count": 60,
     "metadata": {},
     "output_type": "execute_result"
    }
   ],
   "source": [
    "x_teste.shape, y_teste.shape"
   ]
  },
  {
   "cell_type": "code",
   "execution_count": 61,
   "metadata": {},
   "outputs": [
    {
     "name": "stdout",
     "output_type": "stream",
     "text": [
      "Iteration 1, loss = 0.40698231\n",
      "Iteration 2, loss = 0.32886490\n",
      "Iteration 3, loss = 0.31733616\n",
      "Iteration 4, loss = 0.30941650\n",
      "Iteration 5, loss = 0.30362895\n",
      "Iteration 6, loss = 0.29949996\n",
      "Iteration 7, loss = 0.29571469\n",
      "Iteration 8, loss = 0.29353511\n",
      "Iteration 9, loss = 0.29169304\n",
      "Iteration 10, loss = 0.28819014\n",
      "Iteration 11, loss = 0.28671394\n",
      "Iteration 12, loss = 0.28397883\n",
      "Iteration 13, loss = 0.28221001\n",
      "Iteration 14, loss = 0.28072246\n",
      "Iteration 15, loss = 0.27915409\n",
      "Iteration 16, loss = 0.27662233\n",
      "Iteration 17, loss = 0.27572552\n",
      "Iteration 18, loss = 0.27401945\n",
      "Iteration 19, loss = 0.27258250\n",
      "Iteration 20, loss = 0.27255922\n",
      "Iteration 21, loss = 0.26997985\n",
      "Iteration 22, loss = 0.26760011\n",
      "Iteration 23, loss = 0.26696283\n",
      "Iteration 24, loss = 0.26555649\n",
      "Iteration 25, loss = 0.26392412\n",
      "Iteration 26, loss = 0.26220709\n",
      "Iteration 27, loss = 0.26095148\n",
      "Iteration 28, loss = 0.25978043\n",
      "Iteration 29, loss = 0.25840993\n",
      "Iteration 30, loss = 0.25746973\n",
      "Iteration 31, loss = 0.25580238\n",
      "Iteration 32, loss = 0.25562685\n",
      "Iteration 33, loss = 0.25322082\n",
      "Iteration 34, loss = 0.25195780\n",
      "Iteration 35, loss = 0.25083988\n",
      "Iteration 36, loss = 0.24940513\n",
      "Iteration 37, loss = 0.24971399\n",
      "Iteration 38, loss = 0.24836920\n",
      "Iteration 39, loss = 0.24702571\n",
      "Iteration 40, loss = 0.24553067\n",
      "Iteration 41, loss = 0.24463194\n",
      "Iteration 42, loss = 0.24456222\n",
      "Iteration 43, loss = 0.24227646\n",
      "Iteration 44, loss = 0.24165583\n",
      "Iteration 45, loss = 0.24001347\n",
      "Iteration 46, loss = 0.23935929\n",
      "Iteration 47, loss = 0.23897567\n",
      "Iteration 48, loss = 0.23754438\n",
      "Iteration 49, loss = 0.23621239\n",
      "Iteration 50, loss = 0.23520842\n",
      "Iteration 51, loss = 0.23434791\n",
      "Iteration 52, loss = 0.23387936\n",
      "Iteration 53, loss = 0.23297182\n",
      "Iteration 54, loss = 0.23174078\n",
      "Iteration 55, loss = 0.23084192\n",
      "Iteration 56, loss = 0.23166148\n",
      "Iteration 57, loss = 0.22997405\n",
      "Iteration 58, loss = 0.22970804\n",
      "Iteration 59, loss = 0.22806960\n",
      "Iteration 60, loss = 0.22706040\n",
      "Iteration 61, loss = 0.22827950\n",
      "Iteration 62, loss = 0.22527492\n",
      "Iteration 63, loss = 0.22480729\n",
      "Iteration 64, loss = 0.22353532\n",
      "Iteration 65, loss = 0.22413569\n",
      "Iteration 66, loss = 0.22256900\n",
      "Iteration 67, loss = 0.22251835\n",
      "Iteration 68, loss = 0.22115059\n",
      "Iteration 69, loss = 0.22132114\n",
      "Iteration 70, loss = 0.21954048\n",
      "Iteration 71, loss = 0.22020465\n",
      "Iteration 72, loss = 0.21857497\n",
      "Iteration 73, loss = 0.21770454\n",
      "Iteration 74, loss = 0.21700318\n",
      "Iteration 75, loss = 0.21801452\n",
      "Iteration 76, loss = 0.21614845\n",
      "Iteration 77, loss = 0.21570378\n",
      "Iteration 78, loss = 0.21525783\n",
      "Iteration 79, loss = 0.21498018\n",
      "Iteration 80, loss = 0.21396172\n",
      "Iteration 81, loss = 0.21349153\n",
      "Iteration 82, loss = 0.21231311\n",
      "Iteration 83, loss = 0.21311022\n",
      "Iteration 84, loss = 0.21096003\n",
      "Iteration 85, loss = 0.21273201\n",
      "Iteration 86, loss = 0.21062336\n",
      "Iteration 87, loss = 0.21023319\n",
      "Iteration 88, loss = 0.20893805\n",
      "Iteration 89, loss = 0.20879929\n",
      "Iteration 90, loss = 0.20938196\n",
      "Iteration 91, loss = 0.20824482\n",
      "Iteration 92, loss = 0.20765304\n",
      "Iteration 93, loss = 0.20650397\n",
      "Iteration 94, loss = 0.20653616\n",
      "Iteration 95, loss = 0.20735691\n",
      "Iteration 96, loss = 0.20659962\n",
      "Iteration 97, loss = 0.20520160\n",
      "Iteration 98, loss = 0.20384111\n",
      "Iteration 99, loss = 0.20396464\n",
      "Iteration 100, loss = 0.20381702\n",
      "Iteration 101, loss = 0.20318623\n",
      "Iteration 102, loss = 0.20186590\n",
      "Iteration 103, loss = 0.20180040\n",
      "Iteration 104, loss = 0.20208422\n",
      "Iteration 105, loss = 0.20213180\n",
      "Iteration 106, loss = 0.20071205\n",
      "Iteration 107, loss = 0.20110756\n",
      "Iteration 108, loss = 0.19957244\n",
      "Iteration 109, loss = 0.19967315\n",
      "Iteration 110, loss = 0.19814439\n",
      "Iteration 111, loss = 0.19738141\n",
      "Iteration 112, loss = 0.19780379\n",
      "Iteration 113, loss = 0.19888833\n",
      "Iteration 114, loss = 0.19728876\n",
      "Iteration 115, loss = 0.19676395\n",
      "Iteration 116, loss = 0.19570743\n",
      "Iteration 117, loss = 0.19633281\n",
      "Iteration 118, loss = 0.19565935\n",
      "Iteration 119, loss = 0.19498304\n",
      "Iteration 120, loss = 0.19513617\n",
      "Iteration 121, loss = 0.19474218\n",
      "Iteration 122, loss = 0.19423753\n",
      "Iteration 123, loss = 0.19476206\n",
      "Iteration 124, loss = 0.19363151\n",
      "Iteration 125, loss = 0.19358586\n",
      "Iteration 126, loss = 0.19139199\n",
      "Iteration 127, loss = 0.19247854\n",
      "Iteration 128, loss = 0.19155143\n",
      "Iteration 129, loss = 0.19159857\n",
      "Iteration 130, loss = 0.19122981\n",
      "Iteration 131, loss = 0.19019920\n",
      "Iteration 132, loss = 0.19045946\n",
      "Iteration 133, loss = 0.19183441\n",
      "Iteration 134, loss = 0.18884704\n",
      "Iteration 135, loss = 0.18916092\n",
      "Iteration 136, loss = 0.18916918\n",
      "Iteration 137, loss = 0.18861867\n",
      "Iteration 138, loss = 0.18768651\n",
      "Iteration 139, loss = 0.18865269\n",
      "Iteration 140, loss = 0.18838814\n",
      "Iteration 141, loss = 0.18737309\n",
      "Iteration 142, loss = 0.18661433\n",
      "Iteration 143, loss = 0.18638512\n",
      "Iteration 144, loss = 0.18555975\n",
      "Iteration 145, loss = 0.18617655\n",
      "Iteration 146, loss = 0.18461247\n",
      "Iteration 147, loss = 0.18479862\n",
      "Iteration 148, loss = 0.18448053\n",
      "Iteration 149, loss = 0.18450678\n",
      "Iteration 150, loss = 0.18307866\n",
      "Iteration 151, loss = 0.18354133\n",
      "Iteration 152, loss = 0.18308135\n",
      "Iteration 153, loss = 0.18384002\n",
      "Iteration 154, loss = 0.18342471\n",
      "Iteration 155, loss = 0.18265926\n",
      "Iteration 156, loss = 0.18129936\n",
      "Iteration 157, loss = 0.18286650\n",
      "Iteration 158, loss = 0.18098254\n",
      "Iteration 159, loss = 0.18063669\n",
      "Iteration 160, loss = 0.18066781\n",
      "Iteration 161, loss = 0.18012332\n",
      "Iteration 162, loss = 0.18120908\n",
      "Iteration 163, loss = 0.18079475\n",
      "Iteration 164, loss = 0.17961857\n",
      "Iteration 165, loss = 0.17876569\n",
      "Iteration 166, loss = 0.18250327\n",
      "Iteration 167, loss = 0.17981287\n",
      "Iteration 168, loss = 0.17902669\n",
      "Iteration 169, loss = 0.17926325\n",
      "Iteration 170, loss = 0.17790628\n",
      "Iteration 171, loss = 0.17901192\n",
      "Iteration 172, loss = 0.17795568\n",
      "Iteration 173, loss = 0.17718745\n",
      "Iteration 174, loss = 0.17702087\n",
      "Iteration 175, loss = 0.17613826\n",
      "Iteration 176, loss = 0.17526112\n",
      "Iteration 177, loss = 0.17719817\n",
      "Iteration 178, loss = 0.17642918\n",
      "Iteration 179, loss = 0.17613004\n",
      "Iteration 180, loss = 0.17536333\n",
      "Iteration 181, loss = 0.17537862\n",
      "Iteration 182, loss = 0.17493319\n",
      "Iteration 183, loss = 0.17459990\n",
      "Iteration 184, loss = 0.17308777\n",
      "Iteration 185, loss = 0.17374250\n",
      "Iteration 186, loss = 0.17481279\n",
      "Iteration 187, loss = 0.17390363\n",
      "Iteration 188, loss = 0.17432216\n",
      "Iteration 189, loss = 0.17395041\n",
      "Iteration 190, loss = 0.17358474\n",
      "Iteration 191, loss = 0.17355165\n",
      "Iteration 192, loss = 0.17253891\n",
      "Iteration 193, loss = 0.17272363\n",
      "Iteration 194, loss = 0.17199232\n",
      "Iteration 195, loss = 0.17218541\n",
      "Iteration 196, loss = 0.17039281\n",
      "Iteration 197, loss = 0.17309427\n",
      "Iteration 198, loss = 0.17201302\n",
      "Iteration 199, loss = 0.17144364\n",
      "Iteration 200, loss = 0.17172640\n",
      "Iteration 201, loss = 0.16929948\n",
      "Iteration 202, loss = 0.16974713\n",
      "Iteration 203, loss = 0.16917730\n",
      "Iteration 204, loss = 0.16888673\n",
      "Iteration 205, loss = 0.16789559\n",
      "Iteration 206, loss = 0.16872944\n",
      "Iteration 207, loss = 0.16974013\n",
      "Iteration 208, loss = 0.17024929\n",
      "Iteration 209, loss = 0.16904645\n",
      "Iteration 210, loss = 0.16704754\n",
      "Iteration 211, loss = 0.16860176\n",
      "Iteration 212, loss = 0.16718122\n",
      "Iteration 213, loss = 0.16780428\n",
      "Iteration 214, loss = 0.16689582\n",
      "Iteration 215, loss = 0.16637222\n",
      "Iteration 216, loss = 0.16548946\n",
      "Iteration 217, loss = 0.16576214\n",
      "Iteration 218, loss = 0.16600945\n",
      "Iteration 219, loss = 0.16863546\n",
      "Iteration 220, loss = 0.16684422\n",
      "Iteration 221, loss = 0.16604856\n",
      "Iteration 222, loss = 0.16687069\n",
      "Iteration 223, loss = 0.16535886\n",
      "Iteration 224, loss = 0.16474886\n",
      "Iteration 225, loss = 0.16536111\n",
      "Iteration 226, loss = 0.16485049\n",
      "Iteration 227, loss = 0.16528649\n",
      "Iteration 228, loss = 0.16620452\n",
      "Iteration 229, loss = 0.16495193\n",
      "Iteration 230, loss = 0.16407001\n",
      "Iteration 231, loss = 0.16561105\n",
      "Iteration 232, loss = 0.16582815\n",
      "Iteration 233, loss = 0.16454484\n",
      "Iteration 234, loss = 0.16310496\n",
      "Iteration 235, loss = 0.16221501\n",
      "Iteration 236, loss = 0.16331636\n",
      "Iteration 237, loss = 0.16317815\n",
      "Iteration 238, loss = 0.16215786\n",
      "Iteration 239, loss = 0.16107172\n",
      "Iteration 240, loss = 0.16233785\n",
      "Iteration 241, loss = 0.16171023\n",
      "Iteration 242, loss = 0.15980575\n",
      "Iteration 243, loss = 0.16172916\n",
      "Iteration 244, loss = 0.16225915\n",
      "Iteration 245, loss = 0.16138484\n",
      "Iteration 246, loss = 0.16121489\n",
      "Iteration 247, loss = 0.16000304\n",
      "Iteration 248, loss = 0.16097850\n",
      "Iteration 249, loss = 0.16057348\n",
      "Iteration 250, loss = 0.16004598\n",
      "Iteration 251, loss = 0.16044050\n",
      "Iteration 252, loss = 0.16142187\n"
     ]
    },
    {
     "name": "stdout",
     "output_type": "stream",
     "text": [
      "Iteration 253, loss = 0.15970399\n",
      "Iteration 254, loss = 0.15957831\n",
      "Iteration 255, loss = 0.15987010\n",
      "Iteration 256, loss = 0.15839686\n",
      "Iteration 257, loss = 0.15776925\n",
      "Iteration 258, loss = 0.15892095\n",
      "Iteration 259, loss = 0.15784366\n",
      "Iteration 260, loss = 0.16048209\n",
      "Iteration 261, loss = 0.15941865\n",
      "Iteration 262, loss = 0.15782358\n",
      "Iteration 263, loss = 0.16064938\n",
      "Iteration 264, loss = 0.15847236\n",
      "Iteration 265, loss = 0.15750785\n",
      "Iteration 266, loss = 0.15899720\n",
      "Iteration 267, loss = 0.15973954\n",
      "Iteration 268, loss = 0.15703586\n",
      "Iteration 269, loss = 0.15748127\n",
      "Iteration 270, loss = 0.15688966\n",
      "Iteration 271, loss = 0.15647041\n",
      "Iteration 272, loss = 0.15697444\n",
      "Iteration 273, loss = 0.15832528\n",
      "Iteration 274, loss = 0.15671140\n",
      "Iteration 275, loss = 0.15537740\n",
      "Iteration 276, loss = 0.15540506\n",
      "Iteration 277, loss = 0.15637700\n",
      "Iteration 278, loss = 0.15584019\n",
      "Iteration 279, loss = 0.15605077\n",
      "Iteration 280, loss = 0.15516110\n",
      "Iteration 281, loss = 0.15437550\n",
      "Iteration 282, loss = 0.15628241\n",
      "Iteration 283, loss = 0.15446508\n",
      "Iteration 284, loss = 0.15350649\n",
      "Iteration 285, loss = 0.15468023\n",
      "Iteration 286, loss = 0.15404245\n",
      "Iteration 287, loss = 0.15455691\n",
      "Iteration 288, loss = 0.15428751\n",
      "Iteration 289, loss = 0.15282870\n",
      "Iteration 290, loss = 0.15634934\n",
      "Iteration 291, loss = 0.15221768\n",
      "Iteration 292, loss = 0.15286748\n",
      "Iteration 293, loss = 0.15387854\n",
      "Iteration 294, loss = 0.15396599\n",
      "Iteration 295, loss = 0.15372132\n",
      "Iteration 296, loss = 0.15276856\n",
      "Iteration 297, loss = 0.15295833\n",
      "Iteration 298, loss = 0.15429924\n",
      "Iteration 299, loss = 0.15414053\n",
      "Iteration 300, loss = 0.15226254\n",
      "Iteration 301, loss = 0.15158070\n",
      "Iteration 302, loss = 0.15223273\n",
      "Iteration 303, loss = 0.15202267\n",
      "Iteration 304, loss = 0.15151701\n",
      "Iteration 305, loss = 0.15110167\n",
      "Iteration 306, loss = 0.15247585\n",
      "Iteration 307, loss = 0.15169118\n",
      "Iteration 308, loss = 0.15176163\n",
      "Iteration 309, loss = 0.15131058\n",
      "Iteration 310, loss = 0.15093525\n",
      "Iteration 311, loss = 0.15070456\n",
      "Iteration 312, loss = 0.15023651\n",
      "Iteration 313, loss = 0.15010874\n",
      "Iteration 314, loss = 0.15128577\n",
      "Iteration 315, loss = 0.15112648\n",
      "Iteration 316, loss = 0.15000789\n",
      "Iteration 317, loss = 0.14941195\n",
      "Iteration 318, loss = 0.15039278\n",
      "Iteration 319, loss = 0.14828419\n",
      "Iteration 320, loss = 0.14935829\n",
      "Iteration 321, loss = 0.14876690\n",
      "Iteration 322, loss = 0.14991181\n",
      "Iteration 323, loss = 0.14899111\n",
      "Iteration 324, loss = 0.15168932\n",
      "Iteration 325, loss = 0.15291540\n",
      "Iteration 326, loss = 0.14840197\n",
      "Iteration 327, loss = 0.15031791\n",
      "Iteration 328, loss = 0.14859929\n",
      "Iteration 329, loss = 0.15034620\n",
      "Iteration 330, loss = 0.14879095\n",
      "Training loss did not improve more than tol=0.000010 for 10 consecutive epochs. Stopping.\n"
     ]
    },
    {
     "data": {
      "text/plain": [
       "MLPClassifier(hidden_layer_sizes=(55, 55), max_iter=1000, tol=1e-05,\n",
       "              verbose=True)"
      ]
     },
     "execution_count": 61,
     "metadata": {},
     "output_type": "execute_result"
    }
   ],
   "source": [
    "#hidden_layer_sizes =  (108 entradas + 1 saida)/2 = 54.2 ~ 55\n",
    "rede_n = MLPClassifier(max_iter=1000,verbose=True,tol=0.0000100,solver='adam',activation='relu',hidden_layer_sizes=(55,55))\n",
    "rede_n.fit(X_treinamento,y_treinamento)"
   ]
  },
  {
   "cell_type": "code",
   "execution_count": 62,
   "metadata": {},
   "outputs": [
    {
     "data": {
      "text/plain": [
       "0.8159672466734903"
      ]
     },
     "execution_count": 62,
     "metadata": {},
     "output_type": "execute_result"
    }
   ],
   "source": [
    "previsoes = rede_n.predict(x_teste)\n",
    "accuracy_score(previsoes,y_teste)"
   ]
  },
  {
   "cell_type": "code",
   "execution_count": 63,
   "metadata": {},
   "outputs": [
    {
     "data": {
      "text/plain": [
       "0.8159672466734903"
      ]
     },
     "execution_count": 63,
     "metadata": {},
     "output_type": "execute_result"
    },
    {
     "data": {
      "image/png": "[encoded data removed]",
      "text/plain": [
       "<Figure size 576x396 with 1 Axes>"
      ]
     },
     "metadata": {},
     "output_type": "display_data"
    }
   ],
   "source": [
    "cm = ConfusionMatrix(rede_n)\n",
    "cm.fit(X_treinamento,y_treinamento)\n",
    "cm.score(x_teste,y_teste)"
   ]
  },
  {
   "cell_type": "code",
   "execution_count": 64,
   "metadata": {},
   "outputs": [
    {
     "name": "stdout",
     "output_type": "stream",
     "text": [
      "              precision    recall  f1-score   support\n",
      "\n",
      "       <=50K       0.87      0.89      0.88      3693\n",
      "        >50K       0.63      0.59      0.61      1192\n",
      "\n",
      "    accuracy                           0.82      4885\n",
      "   macro avg       0.75      0.74      0.75      4885\n",
      "weighted avg       0.81      0.82      0.81      4885\n",
      "\n"
     ]
    }
   ],
   "source": [
    "print(classification_report(y_teste,previsoes))"
   ]
  },
  {
   "cell_type": "code",
   "execution_count": null,
   "metadata": {},
   "outputs": [],
   "source": []
  }
 ],
 "metadata": {
  "kernelspec": {
   "display_name": "Python 3",
   "language": "python",
   "name": "python3"
  },
  "language_info": {
   "codemirror_mode": {
    "name": "ipython",
    "version": 3
   },
   "file_extension": ".py",
   "mimetype": "text/x-python",
   "name": "python",
   "nbconvert_exporter": "python",
   "pygments_lexer": "ipython3",
   "version": "3.8.10"
  }
 },
 "nbformat": 4,
 "nbformat_minor": 4
}
